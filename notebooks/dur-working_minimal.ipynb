{
 "cells": [
  {
   "cell_type": "markdown",
   "id": "eeef9629",
   "metadata": {},
   "source": [
    "# Minimal runner for dur_mvp"
   ]
  },
  {
   "cell_type": "code",
   "execution_count": null,
   "id": "318cb6cf",
   "metadata": {},
   "outputs": [],
   "source": [
    "from dur_mvp.pipeline import run\n",
    "run()"
   ]
  }
 ],
 "metadata": {},
 "nbformat": 4,
 "nbformat_minor": 5
}
